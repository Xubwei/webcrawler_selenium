{
 "cells": [
  {
   "cell_type": "markdown",
   "metadata": {},
   "source": [
    "### 博客來實戰爬蟲"
   ]
  },
  {
   "cell_type": "code",
   "execution_count": 75,
   "metadata": {},
   "outputs": [],
   "source": [
    "from selenium import webdriver\n",
    "from selenium.webdriver.chrome.service import Service as ChromeService\n",
    "from webdriver_manager.chrome import ChromeDriverManager\n",
    "from selenium.webdriver.common.by import By\n",
    "import time\n",
    "from bs4 import BeautifulSoup"
   ]
  },
  {
   "cell_type": "code",
   "execution_count": 76,
   "metadata": {},
   "outputs": [],
   "source": [
    "# ------ 設定要前往的網址 ------\n",
    "url = 'https://www.books.com.tw/'\n"
   ]
  },
  {
   "cell_type": "code",
   "execution_count": 77,
   "metadata": {},
   "outputs": [],
   "source": [
    "# ------ 開啟 Chrome browser ------\n",
    "browser = webdriver.Chrome(service=ChromeService(ChromeDriverManager().install()))"
   ]
  },
  {
   "cell_type": "code",
   "execution_count": 78,
   "metadata": {},
   "outputs": [],
   "source": [
    "# ------ 前往該網址------\n",
    "browser.get(url)"
   ]
  },
  {
   "cell_type": "code",
   "execution_count": 79,
   "metadata": {},
   "outputs": [],
   "source": [
    "browser.find_element(By.ID,\"close_top_banner\").click()"
   ]
  },
  {
   "cell_type": "code",
   "execution_count": 80,
   "metadata": {},
   "outputs": [],
   "source": [
    "keyword = '資料科學'\n",
    "browser.find_element(By.XPATH, '//*[@id=\"key\"]').send_keys(keyword)"
   ]
  },
  {
   "cell_type": "code",
   "execution_count": 81,
   "metadata": {},
   "outputs": [],
   "source": [
    "browser.find_element(By.XPATH,'/html/body/header/div[2]/div[3]/form/div/button').click()"
   ]
  },
  {
   "cell_type": "code",
   "execution_count": 82,
   "metadata": {},
   "outputs": [],
   "source": [
    "# ------ 執行 \"滑鼠滾動的\" JavaScript指令 ------\n",
    "# 向下\n",
    "js = 'window.scrollTo(0, document.body.scrollHeight);'\n",
    "browser.execute_script(js)"
   ]
  },
  {
   "cell_type": "markdown",
   "metadata": {},
   "source": [
    "### 把書名+價格整理出來><"
   ]
  },
  {
   "cell_type": "code",
   "execution_count": 83,
   "metadata": {},
   "outputs": [],
   "source": [
    "name = []\n",
    "price =[]\n",
    "for i in browser.find_elements(By.CLASS_NAME,'mod2.table-container'):\n",
    "    html_code = i.get_attribute(\"outerHTML\")\n",
    "    soup = BeautifulSoup(html_code, 'html.parser')\n",
    "    for i in soup.find_all(\"h4\"):\n",
    "        name.append(i.text)\n",
    "    for j in soup.find_all(\"ul\", {\"class\": \"price clearfix\"}):\n",
    "        price.append(j.text)"
   ]
  },
  {
   "cell_type": "code",
   "execution_count": 84,
   "metadata": {},
   "outputs": [
    {
     "data": {
      "text/html": [
       "<div>\n",
       "<style scoped>\n",
       "    .dataframe tbody tr th:only-of-type {\n",
       "        vertical-align: middle;\n",
       "    }\n",
       "\n",
       "    .dataframe tbody tr th {\n",
       "        vertical-align: top;\n",
       "    }\n",
       "\n",
       "    .dataframe thead th {\n",
       "        text-align: right;\n",
       "    }\n",
       "</style>\n",
       "<table border=\"1\" class=\"dataframe\">\n",
       "  <thead>\n",
       "    <tr style=\"text-align: right;\">\n",
       "      <th></th>\n",
       "      <th>書名</th>\n",
       "      <th>價格</th>\n",
       "    </tr>\n",
       "  </thead>\n",
       "  <tbody>\n",
       "    <tr>\n",
       "      <th>0</th>\n",
       "      <td>跟TED學表達，讓世界記住你：用更有說服力的方式行銷你和你的構想</td>\n",
       "      <td>\\n優惠價: 9 折, 297 元\\n</td>\n",
       "    </tr>\n",
       "    <tr>\n",
       "      <th>1</th>\n",
       "      <td>故事課2：99%有效的故事行銷，創造品牌力</td>\n",
       "      <td>\\n優惠價: 79 折, 276 元\\n</td>\n",
       "    </tr>\n",
       "    <tr>\n",
       "      <th>2</th>\n",
       "      <td>行銷5.0：科技與人性完美融合時代的全方位戰略，運用MarTech，設計顧客旅程，開啟數位消...</td>\n",
       "      <td>\\n優惠價: 79 折, 356 元\\n</td>\n",
       "    </tr>\n",
       "    <tr>\n",
       "      <th>3</th>\n",
       "      <td>遊戲化實戰全書：遊戲化大師教你把工作、教學、健身、行銷、產品設計……變遊戲，愈好玩就愈有吸引力!</td>\n",
       "      <td>\\n優惠價: 79 折, 379 元\\n</td>\n",
       "    </tr>\n",
       "    <tr>\n",
       "      <th>4</th>\n",
       "      <td>瘋潮行銷：華頓商學院最熱門的一堂行銷課!6大關鍵感染力，瞬間引爆大流行【暢銷新裝版】</td>\n",
       "      <td>\\n優惠價: 75 折, 285 元\\n</td>\n",
       "    </tr>\n",
       "    <tr>\n",
       "      <th>5</th>\n",
       "      <td>故事行銷：寫文案，先學故事，照樣造句就能寫出商業等級的爆文指南</td>\n",
       "      <td>\\n優惠價: 9 折, 288 元\\n</td>\n",
       "    </tr>\n",
       "    <tr>\n",
       "      <th>6</th>\n",
       "      <td>行銷前必修的購物心理學：徹底推翻被誤解的消費行為，揭開商品大賣的祕密</td>\n",
       "      <td>\\n優惠價: 9 折, 360 元\\n</td>\n",
       "    </tr>\n",
       "    <tr>\n",
       "      <th>7</th>\n",
       "      <td>行銷5.0：科技與人性完美融合時代的全方位戰略，運用MarTech，設計顧客旅程，開啟數位消...</td>\n",
       "      <td>\\n優惠價: 79 折, 356 元\\n</td>\n",
       "    </tr>\n",
       "    <tr>\n",
       "      <th>8</th>\n",
       "      <td>成功開店計畫書(增訂版)：小資本也OK!從市場分析、店面經營、行銷規劃，你要做的是這23件事</td>\n",
       "      <td>\\n優惠價: 95 折, 361 元\\n</td>\n",
       "    </tr>\n",
       "    <tr>\n",
       "      <th>9</th>\n",
       "      <td>勾癮：創造品牌幻想，從心理學與腦神經科學解構行銷創意，觸發消費渴望</td>\n",
       "      <td>\\n優惠價: 9 折, 315 元\\n</td>\n",
       "    </tr>\n",
       "    <tr>\n",
       "      <th>10</th>\n",
       "      <td>超人氣FB+IG+LINE社群經營與行銷力：用225招快速聚粉，飆升流量變業績!</td>\n",
       "      <td>\\n優惠價: 79 折, 395 元\\n</td>\n",
       "    </tr>\n",
       "    <tr>\n",
       "      <th>11</th>\n",
       "      <td>點子就要秀出來：10個行銷創意的好撇步，讓人發掘你的才華</td>\n",
       "      <td>\\n優惠價: 79 折, 197 元\\n</td>\n",
       "    </tr>\n",
       "    <tr>\n",
       "      <th>12</th>\n",
       "      <td>場景行銷模式：在無限媒體時代，突破雜訊，超越演算法，打造自動獲利的顧客旅程</td>\n",
       "      <td>\\n優惠價: 79 折, 332 元\\n</td>\n",
       "    </tr>\n",
       "    <tr>\n",
       "      <th>13</th>\n",
       "      <td>心魔行銷</td>\n",
       "      <td>\\n優惠價: 9 折, 270 元\\n</td>\n",
       "    </tr>\n",
       "    <tr>\n",
       "      <th>14</th>\n",
       "      <td>最親切的SEO入門教室：關鍵字編輯x內容行銷x網站分析</td>\n",
       "      <td>\\n優惠價: 79 折, 410 元\\n</td>\n",
       "    </tr>\n",
       "    <tr>\n",
       "      <th>15</th>\n",
       "      <td>數位行銷的10堂課：SEO x 廣告 x 社群媒體 x facebook洞察報告 x Goo...</td>\n",
       "      <td>\\n優惠價: 79 折, 379 元\\n</td>\n",
       "    </tr>\n",
       "    <tr>\n",
       "      <th>16</th>\n",
       "      <td>剛剛好的款待：米其林服務心法 ×數位場景行銷 ×沉浸式體驗，在線上線下持續創造價值的服務一點訣</td>\n",
       "      <td>\\n優惠價: 79 折, 300 元\\n</td>\n",
       "    </tr>\n",
       "    <tr>\n",
       "      <th>17</th>\n",
       "      <td>關鍵行銷：消費心理學大師的10大黃金行銷課</td>\n",
       "      <td>\\n優惠價: 9 折, 378 元\\n</td>\n",
       "    </tr>\n",
       "    <tr>\n",
       "      <th>18</th>\n",
       "      <td>數據為王 學會洞察數據，才是行銷之王</td>\n",
       "      <td>\\n優惠價: 79 折, 355 元\\n</td>\n",
       "    </tr>\n",
       "    <tr>\n",
       "      <th>19</th>\n",
       "      <td>這才是行銷</td>\n",
       "      <td>\\n優惠價: 9 折, 359 元\\n</td>\n",
       "    </tr>\n",
       "    <tr>\n",
       "      <th>20</th>\n",
       "      <td>一擊奏效的社群行銷術：一句話打動1500萬人，成功將流量轉成銷量</td>\n",
       "      <td>\\n優惠價: 9 折, 315 元\\n</td>\n",
       "    </tr>\n",
       "    <tr>\n",
       "      <th>21</th>\n",
       "      <td>流量池：流量稍縱即逝，打造流量水庫，透過儲存、轉化、裂變，讓導購飆高、客源不絕、營運升級的行...</td>\n",
       "      <td>\\n優惠價: 9 折, 342 元\\n</td>\n",
       "    </tr>\n",
       "    <tr>\n",
       "      <th>22</th>\n",
       "      <td>以MARTECH經營大數據會員行銷(《大數據預測行銷》暢銷增訂版)</td>\n",
       "      <td>\\n優惠價: 9 折, 405 元\\n</td>\n",
       "    </tr>\n",
       "    <tr>\n",
       "      <th>23</th>\n",
       "      <td>最強影片行銷71堂課：紐約時報讚譽的網路行銷大師，教你完美運用影片拓展銷售藍海</td>\n",
       "      <td>\\n優惠價: 9 折, 342 元\\n</td>\n",
       "    </tr>\n",
       "  </tbody>\n",
       "</table>\n",
       "</div>"
      ],
      "text/plain": [
       "                                                   書名                    價格\n",
       "0                    跟TED學表達，讓世界記住你：用更有說服力的方式行銷你和你的構想   \\n優惠價: 9 折, 297 元\\n\n",
       "1                               故事課2：99%有效的故事行銷，創造品牌力  \\n優惠價: 79 折, 276 元\\n\n",
       "2   行銷5.0：科技與人性完美融合時代的全方位戰略，運用MarTech，設計顧客旅程，開啟數位消...  \\n優惠價: 79 折, 356 元\\n\n",
       "3    遊戲化實戰全書：遊戲化大師教你把工作、教學、健身、行銷、產品設計……變遊戲，愈好玩就愈有吸引力!  \\n優惠價: 79 折, 379 元\\n\n",
       "4          瘋潮行銷：華頓商學院最熱門的一堂行銷課!6大關鍵感染力，瞬間引爆大流行【暢銷新裝版】  \\n優惠價: 75 折, 285 元\\n\n",
       "5                     故事行銷：寫文案，先學故事，照樣造句就能寫出商業等級的爆文指南   \\n優惠價: 9 折, 288 元\\n\n",
       "6                  行銷前必修的購物心理學：徹底推翻被誤解的消費行為，揭開商品大賣的祕密   \\n優惠價: 9 折, 360 元\\n\n",
       "7   行銷5.0：科技與人性完美融合時代的全方位戰略，運用MarTech，設計顧客旅程，開啟數位消...  \\n優惠價: 79 折, 356 元\\n\n",
       "8      成功開店計畫書(增訂版)：小資本也OK!從市場分析、店面經營、行銷規劃，你要做的是這23件事  \\n優惠價: 95 折, 361 元\\n\n",
       "9                   勾癮：創造品牌幻想，從心理學與腦神經科學解構行銷創意，觸發消費渴望   \\n優惠價: 9 折, 315 元\\n\n",
       "10           超人氣FB+IG+LINE社群經營與行銷力：用225招快速聚粉，飆升流量變業績!  \\n優惠價: 79 折, 395 元\\n\n",
       "11                       點子就要秀出來：10個行銷創意的好撇步，讓人發掘你的才華  \\n優惠價: 79 折, 197 元\\n\n",
       "12              場景行銷模式：在無限媒體時代，突破雜訊，超越演算法，打造自動獲利的顧客旅程  \\n優惠價: 79 折, 332 元\\n\n",
       "13                                               心魔行銷   \\n優惠價: 9 折, 270 元\\n\n",
       "14                        最親切的SEO入門教室：關鍵字編輯x內容行銷x網站分析  \\n優惠價: 79 折, 410 元\\n\n",
       "15  數位行銷的10堂課：SEO x 廣告 x 社群媒體 x facebook洞察報告 x Goo...  \\n優惠價: 79 折, 379 元\\n\n",
       "16    剛剛好的款待：米其林服務心法 ×數位場景行銷 ×沉浸式體驗，在線上線下持續創造價值的服務一點訣  \\n優惠價: 79 折, 300 元\\n\n",
       "17                              關鍵行銷：消費心理學大師的10大黃金行銷課   \\n優惠價: 9 折, 378 元\\n\n",
       "18                                 數據為王 學會洞察數據，才是行銷之王  \\n優惠價: 79 折, 355 元\\n\n",
       "19                                              這才是行銷   \\n優惠價: 9 折, 359 元\\n\n",
       "20                   一擊奏效的社群行銷術：一句話打動1500萬人，成功將流量轉成銷量   \\n優惠價: 9 折, 315 元\\n\n",
       "21  流量池：流量稍縱即逝，打造流量水庫，透過儲存、轉化、裂變，讓導購飆高、客源不絕、營運升級的行...   \\n優惠價: 9 折, 342 元\\n\n",
       "22                  以MARTECH經營大數據會員行銷(《大數據預測行銷》暢銷增訂版)   \\n優惠價: 9 折, 405 元\\n\n",
       "23            最強影片行銷71堂課：紐約時報讚譽的網路行銷大師，教你完美運用影片拓展銷售藍海   \\n優惠價: 9 折, 342 元\\n"
      ]
     },
     "execution_count": 84,
     "metadata": {},
     "output_type": "execute_result"
    }
   ],
   "source": [
    "import pandas as pd\n",
    "\n",
    "data = {'書名': name, '價格': price}\n",
    "df = pd.DataFrame(data)\n",
    "\n",
    "df"
   ]
  },
  {
   "cell_type": "code",
   "execution_count": null,
   "metadata": {},
   "outputs": [],
   "source": []
  }
 ],
 "metadata": {
  "kernelspec": {
   "display_name": "base",
   "language": "python",
   "name": "python3"
  },
  "language_info": {
   "codemirror_mode": {
    "name": "ipython",
    "version": 3
   },
   "file_extension": ".py",
   "mimetype": "text/x-python",
   "name": "python",
   "nbconvert_exporter": "python",
   "pygments_lexer": "ipython3",
   "version": "3.9.13"
  },
  "orig_nbformat": 4
 },
 "nbformat": 4,
 "nbformat_minor": 2
}

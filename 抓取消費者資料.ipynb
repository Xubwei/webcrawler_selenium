{
 "cells": [
  {
   "cell_type": "code",
   "execution_count": 37,
   "metadata": {},
   "outputs": [],
   "source": [
    "import time\n",
    "import pandas as pd\n",
    "from datetime import datetime\n",
    "from selenium import webdriver\n",
    "from selenium.webdriver.chrome.service import Service as ChromeService\n",
    "from webdriver_manager.chrome import ChromeDriverManager\n",
    "from bs4 import BeautifulSoup as Soup\n",
    "from selenium.webdriver.common.by import By\n",
    "from selenium.webdriver.common.keys import Keys\n",
    "from selenium.webdriver.support.wait import WebDriverWait\n",
    "from selenium.webdriver.common.action_chains import ActionChains\n",
    "from selenium.webdriver.support import expected_conditions as EC\n"
   ]
  },
  {
   "cell_type": "code",
   "execution_count": 38,
   "metadata": {},
   "outputs": [],
   "source": [
    "search= \"臺灣大學\""
   ]
  },
  {
   "cell_type": "code",
   "execution_count": 39,
   "metadata": {},
   "outputs": [],
   "source": [
    "browser = webdriver.Chrome(service=ChromeService(ChromeDriverManager().install()))\n",
    "# 開啟chromedriver\n",
    "url = 'https://www.google.com.tw/maps?hl=zh-TW&tab=rl&authuser=0'\n",
    "browser.get(url)"
   ]
  },
  {
   "cell_type": "code",
   "execution_count": 40,
   "metadata": {},
   "outputs": [],
   "source": [
    "search_input = browser.find_elements(By.CLASS_NAME,'tactile-searchbox-input')[0]\n",
    "search_input.send_keys(search)\n"
   ]
  },
  {
   "cell_type": "code",
   "execution_count": 41,
   "metadata": {},
   "outputs": [],
   "source": [
    "search_click = browser.find_element(By.CLASS_NAME,'mL3xi')\n",
    "search_click.click()"
   ]
  },
  {
   "cell_type": "code",
   "execution_count": 42,
   "metadata": {},
   "outputs": [],
   "source": [
    "time.sleep(2.85)"
   ]
  },
  {
   "cell_type": "code",
   "execution_count": 43,
   "metadata": {},
   "outputs": [],
   "source": [
    "soup = Soup(browser.page_source,\"lxml\")"
   ]
  },
  {
   "attachments": {},
   "cell_type": "markdown",
   "metadata": {},
   "source": [
    "### 爬取星級數"
   ]
  },
  {
   "cell_type": "code",
   "execution_count": 44,
   "metadata": {},
   "outputs": [
    {
     "data": {
      "text/plain": [
       "'4.6'"
      ]
     },
     "execution_count": 44,
     "metadata": {},
     "output_type": "execute_result"
    }
   ],
   "source": [
    "star = soup.find_all(class_=\"ceNzKf\")[0]\n",
    "star.get('aria-label')[:3]"
   ]
  },
  {
   "cell_type": "code",
   "execution_count": 45,
   "metadata": {},
   "outputs": [
    {
     "name": "stdout",
     "output_type": "stream",
     "text": [
      "學校星級： [4.6]\n"
     ]
    }
   ],
   "source": [
    "star_section=[]\n",
    "star_section.append(float((star.get('aria-label')[:3])))\n",
    "print(\"學校星級：\", star_section)"
   ]
  },
  {
   "cell_type": "code",
   "execution_count": 46,
   "metadata": {},
   "outputs": [
    {
     "data": {
      "text/html": [
       "<div>\n",
       "<style scoped>\n",
       "    .dataframe tbody tr th:only-of-type {\n",
       "        vertical-align: middle;\n",
       "    }\n",
       "\n",
       "    .dataframe tbody tr th {\n",
       "        vertical-align: top;\n",
       "    }\n",
       "\n",
       "    .dataframe thead th {\n",
       "        text-align: right;\n",
       "    }\n",
       "</style>\n",
       "<table border=\"1\" class=\"dataframe\">\n",
       "  <thead>\n",
       "    <tr style=\"text-align: right;\">\n",
       "      <th></th>\n",
       "      <th>學校名稱</th>\n",
       "      <th>學校星級</th>\n",
       "    </tr>\n",
       "  </thead>\n",
       "  <tbody>\n",
       "    <tr>\n",
       "      <th>0</th>\n",
       "      <td>臺灣大學</td>\n",
       "      <td>4.6</td>\n",
       "    </tr>\n",
       "  </tbody>\n",
       "</table>\n",
       "</div>"
      ],
      "text/plain": [
       "   學校名稱  學校星級\n",
       "0  臺灣大學   4.6"
      ]
     },
     "execution_count": 46,
     "metadata": {},
     "output_type": "execute_result"
    }
   ],
   "source": [
    "school=pd.DataFrame({\"學校名稱\":search,\"學校星級\":star_section})\n",
    "school"
   ]
  },
  {
   "attachments": {},
   "cell_type": "markdown",
   "metadata": {},
   "source": [
    "### 爬取評論數"
   ]
  },
  {
   "cell_type": "code",
   "execution_count": 47,
   "metadata": {},
   "outputs": [
    {
     "data": {
      "text/plain": [
       "'4.6(5,292)'"
      ]
     },
     "execution_count": 47,
     "metadata": {},
     "output_type": "execute_result"
    }
   ],
   "source": [
    "comment = soup.find_all(class_=\"F7nice\")[0]\n",
    "review = comment.text\n",
    "review"
   ]
  },
  {
   "cell_type": "code",
   "execution_count": 48,
   "metadata": {},
   "outputs": [],
   "source": [
    "import re"
   ]
  },
  {
   "cell_type": "code",
   "execution_count": 49,
   "metadata": {},
   "outputs": [
    {
     "name": "stdout",
     "output_type": "stream",
     "text": [
      "5292\n"
     ]
    }
   ],
   "source": [
    "review_num = []\n",
    "# 使用正規表達式匹配括號內的數字\n",
    "match = re.search(r'\\(([\\d,]+)\\)', review)\n",
    "reveiw_sum = match.group(1)\n",
    "review_num.append(reveiw_sum)\n",
    "\n",
    "# 檢查匹配是否成功\n",
    "if match:\n",
    "    # 提取匹配到的數字\n",
    "    number_str = match.group(1)\n",
    "    # 將字符串中的逗號去除\n",
    "    number_str = number_str.replace(',', '')\n",
    "    # 將字符串轉換為整數\n",
    "    number = int(number_str)\n",
    "    print(number)\n",
    "else:\n",
    "    print(\"未找到匹配的數字\")"
   ]
  },
  {
   "cell_type": "code",
   "execution_count": 50,
   "metadata": {},
   "outputs": [],
   "source": [
    "school['學校總評論數']  = review_num"
   ]
  },
  {
   "attachments": {},
   "cell_type": "markdown",
   "metadata": {},
   "source": [
    "### 爬取評論"
   ]
  },
  {
   "attachments": {},
   "cell_type": "markdown",
   "metadata": {},
   "source": [
    "點擊進入更多評論"
   ]
  },
  {
   "cell_type": "code",
   "execution_count": 51,
   "metadata": {},
   "outputs": [],
   "source": [
    "review_click = browser.find_elements(By.CLASS_NAME, \"HHrUdb.fontTitleSmall.rqjGif\")[0]\n",
    "# 協助瀏覽器幫我們定位我們想要的位置\n",
    "actions=ActionChains(browser)\n",
    "# 自動幫我們滑到我們要的位置\n",
    "actions.move_to_element(review_click).perform()\n",
    "review_click.click()"
   ]
  },
  {
   "attachments": {},
   "cell_type": "markdown",
   "metadata": {},
   "source": [
    "點擊【排序】"
   ]
  },
  {
   "cell_type": "code",
   "execution_count": 52,
   "metadata": {},
   "outputs": [],
   "source": [
    "menu_click = browser.find_elements(By.CLASS_NAME, \"DVeyrd \")[2]\n",
    "menu_click.click()"
   ]
  },
  {
   "attachments": {},
   "cell_type": "markdown",
   "metadata": {},
   "source": [
    "點擊【最新】"
   ]
  },
  {
   "cell_type": "code",
   "execution_count": 53,
   "metadata": {},
   "outputs": [],
   "source": [
    "category_click = browser.find_elements(By.CLASS_NAME, \"fxNQSd\")[1]\n",
    "category_click.click()\n"
   ]
  },
  {
   "attachments": {},
   "cell_type": "markdown",
   "metadata": {},
   "source": [
    "### 爬取多頁評論技巧(使用下拉式滾輪)"
   ]
  },
  {
   "cell_type": "code",
   "execution_count": 54,
   "metadata": {},
   "outputs": [],
   "source": [
    "browser.maximize_window()\n",
    "browser.execute_script(\"window.scrollBy(0, document.body.scrollHeight);\")"
   ]
  },
  {
   "cell_type": "code",
   "execution_count": 55,
   "metadata": {},
   "outputs": [
    {
     "name": "stdout",
     "output_type": "stream",
     "text": [
      "1 scroll\n",
      "2 scroll\n",
      "3 scroll\n",
      "4 scroll\n",
      "5 scroll\n"
     ]
    }
   ],
   "source": [
    "scroll_time = 5 # 看要滑動幾次\n",
    "for st in range(scroll_time):\n",
    "    time.sleep(2)\n",
    "    pane = browser.find_element(By.XPATH,'/html/body/div[3]/div[9]/div[9]/div/div/div[1]/div[2]/div/div[1]/div/div/div[3]')\n",
    "    browser.execute_script(\"arguments[0].scrollTop = arguments[0].scrollHeight\", pane)\n",
    "    print(st+1,'scroll')\n",
    "    time.sleep(1)"
   ]
  },
  {
   "attachments": {},
   "cell_type": "markdown",
   "metadata": {},
   "source": [
    "### 選取評論元素和消費者名稱"
   ]
  },
  {
   "cell_type": "code",
   "execution_count": 56,
   "metadata": {},
   "outputs": [],
   "source": [
    "time.sleep(2.85)\n",
    "soup = Soup(browser.page_source,\"lxml\")"
   ]
  },
  {
   "cell_type": "code",
   "execution_count": 57,
   "metadata": {},
   "outputs": [
    {
     "data": {
      "text/plain": [
       "60"
      ]
     },
     "execution_count": 57,
     "metadata": {},
     "output_type": "execute_result"
    }
   ],
   "source": [
    "all_reviews = soup.find_all(class_ ='jftiEf fontBodyMedium')\n",
    "len(all_reviews)"
   ]
  },
  {
   "cell_type": "code",
   "execution_count": 58,
   "metadata": {},
   "outputs": [],
   "source": [
    "ar = all_reviews[0]"
   ]
  },
  {
   "cell_type": "code",
   "execution_count": 59,
   "metadata": {},
   "outputs": [
    {
     "data": {
      "text/plain": [
       "'梁靧'"
      ]
     },
     "execution_count": 59,
     "metadata": {},
     "output_type": "execute_result"
    }
   ],
   "source": [
    "ar.find(class_ = 'd4r55').text"
   ]
  },
  {
   "cell_type": "code",
   "execution_count": 60,
   "metadata": {},
   "outputs": [
    {
     "data": {
      "text/plain": [
       "'臺灣特有亞種「臺大球雀」的家，錯過和球雀在草地上滾來滾去的機會很可惜，一定要來玩喔：）'"
      ]
     },
     "execution_count": 60,
     "metadata": {},
     "output_type": "execute_result"
    }
   ],
   "source": [
    "ar.find(class_ = 'wiI7pd').text"
   ]
  },
  {
   "cell_type": "code",
   "execution_count": 61,
   "metadata": {},
   "outputs": [],
   "source": [
    "### 爬取google評論及名稱\n",
    "all_text_review=[]\n",
    "all_title_review=[]\n",
    "for i in range(len(all_reviews)):\n",
    "    ar = all_reviews[i]\n",
    "    all_title_review.append(ar.find(class_ = 'd4r55').text)\n",
    "    if ar.find(class_ = 'wiI7pd') :\n",
    "        all_text_review.append(ar.find(class_ = 'wiI7pd').text)\n",
    "    else:\n",
    "        all_text_review.append('')"
   ]
  },
  {
   "cell_type": "code",
   "execution_count": 62,
   "metadata": {},
   "outputs": [
    {
     "data": {
      "text/html": [
       "<div>\n",
       "<style scoped>\n",
       "    .dataframe tbody tr th:only-of-type {\n",
       "        vertical-align: middle;\n",
       "    }\n",
       "\n",
       "    .dataframe tbody tr th {\n",
       "        vertical-align: top;\n",
       "    }\n",
       "\n",
       "    .dataframe thead th {\n",
       "        text-align: right;\n",
       "    }\n",
       "</style>\n",
       "<table border=\"1\" class=\"dataframe\">\n",
       "  <thead>\n",
       "    <tr style=\"text-align: right;\">\n",
       "      <th></th>\n",
       "      <th>評論者名稱</th>\n",
       "      <th>評論內容</th>\n",
       "    </tr>\n",
       "  </thead>\n",
       "  <tbody>\n",
       "    <tr>\n",
       "      <th>0</th>\n",
       "      <td>梁靧</td>\n",
       "      <td>臺灣特有亞種「臺大球雀」的家，錯過和球雀在草地上滾來滾去的機會很可惜，一定要來玩喔：）</td>\n",
       "    </tr>\n",
       "    <tr>\n",
       "      <th>1</th>\n",
       "      <td>YJ</td>\n",
       "      <td></td>\n",
       "    </tr>\n",
       "    <tr>\n",
       "      <th>2</th>\n",
       "      <td>Ming Song Gu</td>\n",
       "      <td>生態資源豐富，親子怡人</td>\n",
       "    </tr>\n",
       "    <tr>\n",
       "      <th>3</th>\n",
       "      <td>吉他</td>\n",
       "      <td>運動活潑有朝氣。</td>\n",
       "    </tr>\n",
       "    <tr>\n",
       "      <th>4</th>\n",
       "      <td>TSMing WU</td>\n",
       "      <td>記憶中的世界</td>\n",
       "    </tr>\n",
       "    <tr>\n",
       "      <th>5</th>\n",
       "      <td>侯勝勛</td>\n",
       "      <td></td>\n",
       "    </tr>\n",
       "    <tr>\n",
       "      <th>6</th>\n",
       "      <td>hung-yu shen</td>\n",
       "      <td>散步</td>\n",
       "    </tr>\n",
       "    <tr>\n",
       "      <th>7</th>\n",
       "      <td>Lisa Hsu</td>\n",
       "      <td>四季皆有不同風貌，很棒的地方。</td>\n",
       "    </tr>\n",
       "    <tr>\n",
       "      <th>8</th>\n",
       "      <td>陳鼎文</td>\n",
       "      <td>校園廣闊，適合散步帶，校區有UBike。</td>\n",
       "    </tr>\n",
       "    <tr>\n",
       "      <th>9</th>\n",
       "      <td>孫珮菱</td>\n",
       "      <td></td>\n",
       "    </tr>\n",
       "    <tr>\n",
       "      <th>10</th>\n",
       "      <td>東東</td>\n",
       "      <td>有人說沒上台大也要來台大見識👍 …</td>\n",
       "    </tr>\n",
       "    <tr>\n",
       "      <th>11</th>\n",
       "      <td>Alan</td>\n",
       "      <td>在這邊出車禍</td>\n",
       "    </tr>\n",
       "    <tr>\n",
       "      <th>12</th>\n",
       "      <td>蔡榮治</td>\n",
       "      <td>是台湾最高學府。校區各區綠意風景令人心情很棒。</td>\n",
       "    </tr>\n",
       "    <tr>\n",
       "      <th>13</th>\n",
       "      <td>Michael Kao</td>\n",
       "      <td>很棒！  …</td>\n",
       "    </tr>\n",
       "    <tr>\n",
       "      <th>14</th>\n",
       "      <td>陳泳駱</td>\n",
       "      <td></td>\n",
       "    </tr>\n",
       "    <tr>\n",
       "      <th>15</th>\n",
       "      <td>劉家瑋</td>\n",
       "      <td></td>\n",
       "    </tr>\n",
       "    <tr>\n",
       "      <th>16</th>\n",
       "      <td>王力平</td>\n",
       "      <td>校園很大，景觀很美，建築也很有味道。</td>\n",
       "    </tr>\n",
       "    <tr>\n",
       "      <th>17</th>\n",
       "      <td>trueboiimakedaisuki</td>\n",
       "      <td>考不上 非常好</td>\n",
       "    </tr>\n",
       "    <tr>\n",
       "      <th>18</th>\n",
       "      <td>tsung hsun yang</td>\n",
       "      <td>台灣野營！</td>\n",
       "    </tr>\n",
       "    <tr>\n",
       "      <th>19</th>\n",
       "      <td>游証富</td>\n",
       "      <td>免費公園</td>\n",
       "    </tr>\n",
       "    <tr>\n",
       "      <th>20</th>\n",
       "      <td>Mood Yu</td>\n",
       "      <td></td>\n",
       "    </tr>\n",
       "    <tr>\n",
       "      <th>21</th>\n",
       "      <td>吳秉學</td>\n",
       "      <td>對學生來說這裡是讀書學習的場所，對不是學生的人來說這裡是運動、休閒的好地方，台大裡面其實有好...</td>\n",
       "    </tr>\n",
       "    <tr>\n",
       "      <th>22</th>\n",
       "      <td>Chen YS</td>\n",
       "      <td>適逢杜鵑花節，在椰林大道兩旁欣賞各種彩色亮麗杜鵑和茶花</td>\n",
       "    </tr>\n",
       "    <tr>\n",
       "      <th>23</th>\n",
       "      <td>魏玉文</td>\n",
       "      <td></td>\n",
       "    </tr>\n",
       "    <tr>\n",
       "      <th>24</th>\n",
       "      <td>瓜瓜瓜瓜瓜（瓜瓜）</td>\n",
       "      <td>杜鵑花節 台大校園</td>\n",
       "    </tr>\n",
       "    <tr>\n",
       "      <th>25</th>\n",
       "      <td>Chuck Hsu</td>\n",
       "      <td>校園禁止摩托車，這是一個很好的政策。</td>\n",
       "    </tr>\n",
       "    <tr>\n",
       "      <th>26</th>\n",
       "      <td>郭勝和</td>\n",
       "      <td></td>\n",
       "    </tr>\n",
       "    <tr>\n",
       "      <th>27</th>\n",
       "      <td>Eric Huang</td>\n",
       "      <td></td>\n",
       "    </tr>\n",
       "    <tr>\n",
       "      <th>28</th>\n",
       "      <td>蔡祐安</td>\n",
       "      <td></td>\n",
       "    </tr>\n",
       "    <tr>\n",
       "      <th>29</th>\n",
       "      <td>唐朝林</td>\n",
       "      <td></td>\n",
       "    </tr>\n",
       "    <tr>\n",
       "      <th>30</th>\n",
       "      <td>楊惠娟</td>\n",
       "      <td></td>\n",
       "    </tr>\n",
       "    <tr>\n",
       "      <th>31</th>\n",
       "      <td>ka oh</td>\n",
       "      <td></td>\n",
       "    </tr>\n",
       "    <tr>\n",
       "      <th>32</th>\n",
       "      <td>Chunming Wu</td>\n",
       "      <td></td>\n",
       "    </tr>\n",
       "    <tr>\n",
       "      <th>33</th>\n",
       "      <td>林清江</td>\n",
       "      <td></td>\n",
       "    </tr>\n",
       "    <tr>\n",
       "      <th>34</th>\n",
       "      <td>hy oy</td>\n",
       "      <td>身為一個台大人當然要推啦</td>\n",
       "    </tr>\n",
       "    <tr>\n",
       "      <th>35</th>\n",
       "      <td>Chao-Chun Huang</td>\n",
       "      <td></td>\n",
       "    </tr>\n",
       "    <tr>\n",
       "      <th>36</th>\n",
       "      <td>chih chien Hsu</td>\n",
       "      <td></td>\n",
       "    </tr>\n",
       "    <tr>\n",
       "      <th>37</th>\n",
       "      <td>王誠華</td>\n",
       "      <td></td>\n",
       "    </tr>\n",
       "    <tr>\n",
       "      <th>38</th>\n",
       "      <td>陳正賢</td>\n",
       "      <td></td>\n",
       "    </tr>\n",
       "    <tr>\n",
       "      <th>39</th>\n",
       "      <td>傅靖皓</td>\n",
       "      <td></td>\n",
       "    </tr>\n",
       "    <tr>\n",
       "      <th>40</th>\n",
       "      <td>Chenghsi Hsieh</td>\n",
       "      <td>空間廣闊，散心溜小孩的好地方</td>\n",
       "    </tr>\n",
       "    <tr>\n",
       "      <th>41</th>\n",
       "      <td>林裕翔</td>\n",
       "      <td></td>\n",
       "    </tr>\n",
       "    <tr>\n",
       "      <th>42</th>\n",
       "      <td>歐秉樺</td>\n",
       "      <td></td>\n",
       "    </tr>\n",
       "    <tr>\n",
       "      <th>43</th>\n",
       "      <td>林均翰</td>\n",
       "      <td></td>\n",
       "    </tr>\n",
       "    <tr>\n",
       "      <th>44</th>\n",
       "      <td>san momo</td>\n",
       "      <td></td>\n",
       "    </tr>\n",
       "    <tr>\n",
       "      <th>45</th>\n",
       "      <td>匪匪</td>\n",
       "      <td>通往異世界的道路</td>\n",
       "    </tr>\n",
       "    <tr>\n",
       "      <th>46</th>\n",
       "      <td>黃自立</td>\n",
       "      <td>校區域大</td>\n",
       "    </tr>\n",
       "    <tr>\n",
       "      <th>47</th>\n",
       "      <td>Anderson Lee</td>\n",
       "      <td>設備比想像的新穎，各項服務付款都可以使用信用卡很方便，所有醫護人員都很有耐心且聰明，有這樣的...</td>\n",
       "    </tr>\n",
       "    <tr>\n",
       "      <th>48</th>\n",
       "      <td>Chio MuSin</td>\n",
       "      <td></td>\n",
       "    </tr>\n",
       "    <tr>\n",
       "      <th>49</th>\n",
       "      <td>Martin Lee</td>\n",
       "      <td>環境優美 雖然對外開放也不髒亂</td>\n",
       "    </tr>\n",
       "    <tr>\n",
       "      <th>50</th>\n",
       "      <td>maggie chang</td>\n",
       "      <td>台大校園相當廣闊， 所以很多學生都會在校園騎腳踏車。\\n附近為公館商圈。\\n捷運: 捷運線公...</td>\n",
       "    </tr>\n",
       "    <tr>\n",
       "      <th>51</th>\n",
       "      <td>翁立穎</td>\n",
       "      <td></td>\n",
       "    </tr>\n",
       "    <tr>\n",
       "      <th>52</th>\n",
       "      <td>Ago Lin</td>\n",
       "      <td>校園環境清悠, 生態園區生態保育良好, 又有簡餐. 咖啡加持, 休閒好去處 , 按三個讚： ...</td>\n",
       "    </tr>\n",
       "    <tr>\n",
       "      <th>53</th>\n",
       "      <td>miao5004</td>\n",
       "      <td></td>\n",
       "    </tr>\n",
       "    <tr>\n",
       "      <th>54</th>\n",
       "      <td>Waltz</td>\n",
       "      <td></td>\n",
       "    </tr>\n",
       "    <tr>\n",
       "      <th>55</th>\n",
       "      <td>GuanHao Zhao</td>\n",
       "      <td>公館捷運站2號出口很多舉牌人</td>\n",
       "    </tr>\n",
       "    <tr>\n",
       "      <th>56</th>\n",
       "      <td>Jordan Lin (林宏錫)</td>\n",
       "      <td></td>\n",
       "    </tr>\n",
       "    <tr>\n",
       "      <th>57</th>\n",
       "      <td>patrick st</td>\n",
       "      <td>台灣資優人才，台灣大學趣味語言學系博士—呂亦芯</td>\n",
       "    </tr>\n",
       "    <tr>\n",
       "      <th>58</th>\n",
       "      <td>N.T. Son</td>\n",
       "      <td></td>\n",
       "    </tr>\n",
       "    <tr>\n",
       "      <th>59</th>\n",
       "      <td>紅茶真好喝</td>\n",
       "      <td>古色古香美麗校園，很適合走走或是騎腳踏車～很棒的地方</td>\n",
       "    </tr>\n",
       "  </tbody>\n",
       "</table>\n",
       "</div>"
      ],
      "text/plain": [
       "                  評論者名稱                                               評論內容\n",
       "0                    梁靧        臺灣特有亞種「臺大球雀」的家，錯過和球雀在草地上滾來滾去的機會很可惜，一定要來玩喔：）\n",
       "1                    YJ                                                   \n",
       "2          Ming Song Gu                                        生態資源豐富，親子怡人\n",
       "3                    吉他                                           運動活潑有朝氣。\n",
       "4             TSMing WU                                             記憶中的世界\n",
       "5                   侯勝勛                                                   \n",
       "6          hung-yu shen                                                 散步\n",
       "7              Lisa Hsu                                    四季皆有不同風貌，很棒的地方。\n",
       "8                   陳鼎文                               校園廣闊，適合散步帶，校區有UBike。\n",
       "9                   孫珮菱                                                   \n",
       "10                   東東                                  有人說沒上台大也要來台大見識👍 …\n",
       "11                 Alan                                             在這邊出車禍\n",
       "12                  蔡榮治                            是台湾最高學府。校區各區綠意風景令人心情很棒。\n",
       "13          Michael Kao                                             很棒！  …\n",
       "14                  陳泳駱                                                   \n",
       "15                  劉家瑋                                                   \n",
       "16                  王力平                                 校園很大，景觀很美，建築也很有味道。\n",
       "17  trueboiimakedaisuki                                            考不上 非常好\n",
       "18      tsung hsun yang                                              台灣野營！\n",
       "19                  游証富                                               免費公園\n",
       "20              Mood Yu                                                   \n",
       "21                  吳秉學  對學生來說這裡是讀書學習的場所，對不是學生的人來說這裡是運動、休閒的好地方，台大裡面其實有好...\n",
       "22              Chen YS                        適逢杜鵑花節，在椰林大道兩旁欣賞各種彩色亮麗杜鵑和茶花\n",
       "23                  魏玉文                                                   \n",
       "24            瓜瓜瓜瓜瓜（瓜瓜）                                          杜鵑花節 台大校園\n",
       "25            Chuck Hsu                                 校園禁止摩托車，這是一個很好的政策。\n",
       "26                  郭勝和                                                   \n",
       "27           Eric Huang                                                   \n",
       "28                  蔡祐安                                                   \n",
       "29                  唐朝林                                                   \n",
       "30                  楊惠娟                                                   \n",
       "31                ka oh                                                   \n",
       "32          Chunming Wu                                                   \n",
       "33                  林清江                                                   \n",
       "34                hy oy                                       身為一個台大人當然要推啦\n",
       "35      Chao-Chun Huang                                                   \n",
       "36       chih chien Hsu                                                   \n",
       "37                  王誠華                                                   \n",
       "38                  陳正賢                                                   \n",
       "39                  傅靖皓                                                   \n",
       "40       Chenghsi Hsieh                                     空間廣闊，散心溜小孩的好地方\n",
       "41                  林裕翔                                                   \n",
       "42                  歐秉樺                                                   \n",
       "43                  林均翰                                                   \n",
       "44             san momo                                                   \n",
       "45                   匪匪                                           通往異世界的道路\n",
       "46                  黃自立                                               校區域大\n",
       "47         Anderson Lee  設備比想像的新穎，各項服務付款都可以使用信用卡很方便，所有醫護人員都很有耐心且聰明，有這樣的...\n",
       "48           Chio MuSin                                                   \n",
       "49           Martin Lee                                    環境優美 雖然對外開放也不髒亂\n",
       "50         maggie chang  台大校園相當廣闊， 所以很多學生都會在校園騎腳踏車。\\n附近為公館商圈。\\n捷運: 捷運線公...\n",
       "51                  翁立穎                                                   \n",
       "52              Ago Lin  校園環境清悠, 生態園區生態保育良好, 又有簡餐. 咖啡加持, 休閒好去處 , 按三個讚： ...\n",
       "53             miao5004                                                   \n",
       "54                Waltz                                                   \n",
       "55         GuanHao Zhao                                     公館捷運站2號出口很多舉牌人\n",
       "56     Jordan Lin (林宏錫)                                                   \n",
       "57           patrick st                            台灣資優人才，台灣大學趣味語言學系博士—呂亦芯\n",
       "58             N.T. Son                                                   \n",
       "59                紅茶真好喝                         古色古香美麗校園，很適合走走或是騎腳踏車～很棒的地方"
      ]
     },
     "execution_count": 62,
     "metadata": {},
     "output_type": "execute_result"
    }
   ],
   "source": [
    "df = pd.DataFrame({\"評論者名稱\":all_title_review,\"評論內容\":all_text_review})\n",
    "df"
   ]
  },
  {
   "cell_type": "code",
   "execution_count": null,
   "metadata": {},
   "outputs": [],
   "source": []
  }
 ],
 "metadata": {
  "kernelspec": {
   "display_name": "base",
   "language": "python",
   "name": "python3"
  },
  "language_info": {
   "codemirror_mode": {
    "name": "ipython",
    "version": 3
   },
   "file_extension": ".py",
   "mimetype": "text/x-python",
   "name": "python",
   "nbconvert_exporter": "python",
   "pygments_lexer": "ipython3",
   "version": "3.9.13"
  },
  "orig_nbformat": 4
 },
 "nbformat": 4,
 "nbformat_minor": 2
}

{
 "cells": [
  {
   "cell_type": "code",
   "execution_count": 239,
   "metadata": {},
   "outputs": [],
   "source": [
    "from selenium import webdriver\n",
    "from selenium.webdriver.chrome.service import Service as ChromeService\n",
    "from webdriver_manager.chrome import ChromeDriverManager\n",
    "from selenium.webdriver.common.by import By\n",
    "from selenium.webdriver.common.keys import Keys\n",
    "from selenium.webdriver.support.wait import WebDriverWait\n",
    "from selenium.webdriver.common.action_chains import ActionChains\n",
    "from selenium.webdriver.support import expected_conditions as EC\n",
    "import time"
   ]
  },
  {
   "cell_type": "code",
   "execution_count": 240,
   "metadata": {},
   "outputs": [],
   "source": [
    "search = '臺灣大學'"
   ]
  },
  {
   "cell_type": "code",
   "execution_count": 241,
   "metadata": {},
   "outputs": [
    {
     "name": "stderr",
     "output_type": "stream",
     "text": [
      "C:\\Users\\saman\\AppData\\Local\\Temp\\ipykernel_10160\\2069963121.py:1: DeprecationWarning: executable_path has been deprecated, please pass in a Service object\n",
      "  browser = webdriver.Chrome(ChromeDriverManager().install())\n"
     ]
    }
   ],
   "source": [
    "browser = webdriver.Chrome(ChromeDriverManager().install())\n",
    "url = 'https://www.google.com.tw/maps?hl=zh-TW&tab=rl&authuser=0'  \n",
    "browser.get(url)"
   ]
  },
  {
   "cell_type": "markdown",
   "metadata": {},
   "source": [
    "填入搜尋內容"
   ]
  },
  {
   "cell_type": "code",
   "execution_count": 242,
   "metadata": {},
   "outputs": [],
   "source": [
    "#WebDriverWait(browser, 5).until(EC.presence_of_element_located((By.CLASS_NAME, 'searchboxinput.xiQnY')))\n",
    "search_input = browser.find_element(By.CLASS_NAME,'tactile-searchbox-input')\n",
    "search_input.send_keys(search)"
   ]
  },
  {
   "cell_type": "markdown",
   "metadata": {},
   "source": [
    "點擊搜尋"
   ]
  },
  {
   "cell_type": "code",
   "execution_count": 243,
   "metadata": {},
   "outputs": [],
   "source": [
    "search_click = browser.find_element(By.CLASS_NAME,'mL3xi')\n",
    "search_click.click()"
   ]
  },
  {
   "cell_type": "code",
   "execution_count": 244,
   "metadata": {},
   "outputs": [
    {
     "name": "stdout",
     "output_type": "stream",
     "text": [
      "Finish Searching! 臺灣大學\n"
     ]
    }
   ],
   "source": [
    "print(\"Finish Searching! \" + search)"
   ]
  },
  {
   "attachments": {},
   "cell_type": "markdown",
   "metadata": {},
   "source": [
    "搜尋第一個點選"
   ]
  },
  {
   "cell_type": "code",
   "execution_count": 245,
   "metadata": {},
   "outputs": [],
   "source": [
    "# try:\n",
    "#     choose_first_item_click=browser.find_elements(By.CLASS_NAME,'bfdHYd.Ppzolf.OFBs3e')[0]\n",
    "#     choose_first_item_click.click()\n",
    "# except:\n",
    "#     print('不用點到第二層')\n",
    "# print(\"Finish Searching! \" + search)\n"
   ]
  },
  {
   "attachments": {},
   "cell_type": "markdown",
   "metadata": {},
   "source": [
    "避免系統偵測為機器人"
   ]
  },
  {
   "cell_type": "code",
   "execution_count": 246,
   "metadata": {},
   "outputs": [],
   "source": [
    "time.sleep(2.76)"
   ]
  },
  {
   "cell_type": "markdown",
   "metadata": {},
   "source": [
    "### 爬取【公立大學】"
   ]
  },
  {
   "cell_type": "code",
   "execution_count": 247,
   "metadata": {},
   "outputs": [],
   "source": [
    "from bs4 import BeautifulSoup as Soup"
   ]
  },
  {
   "cell_type": "code",
   "execution_count": 248,
   "metadata": {},
   "outputs": [],
   "source": [
    "soup = Soup(browser.page_source,\"lxml\")"
   ]
  },
  {
   "cell_type": "code",
   "execution_count": 249,
   "metadata": {},
   "outputs": [],
   "source": [
    "# # 太多ㄖ，不是好方法\n",
    "# category = soup.find_all(class_ = \"fontBodyMedium\")\n",
    "# category"
   ]
  },
  {
   "cell_type": "code",
   "execution_count": 250,
   "metadata": {},
   "outputs": [
    {
     "data": {
      "text/plain": [
       "'大學'"
      ]
     },
     "execution_count": 250,
     "metadata": {},
     "output_type": "execute_result"
    }
   ],
   "source": [
    "soup.find_all('button',{'class':\"DkEaL\"})[0].text"
   ]
  },
  {
   "cell_type": "code",
   "execution_count": 251,
   "metadata": {},
   "outputs": [
    {
     "data": {
      "text/plain": [
       "'大學'"
      ]
     },
     "execution_count": 251,
     "metadata": {},
     "output_type": "execute_result"
    }
   ],
   "source": [
    "soup.find_all('button',{'jsaction':\"pane.rating.category\"})[0].text"
   ]
  },
  {
   "cell_type": "code",
   "execution_count": 252,
   "metadata": {},
   "outputs": [
    {
     "name": "stdout",
     "output_type": "stream",
     "text": [
      "學校種類: ['大學']\n"
     ]
    }
   ],
   "source": [
    "school_type=[]\n",
    "\n",
    "school_category2 = soup.find_all('button',{'jsaction':\"pane.rating.category\"})[0].text\n",
    "\n",
    "if len(school_category2)!=0:\n",
    "    school_type.append(school_category2)\n",
    "else:\n",
    "    school_type.append('')\n",
    "\n",
    "print(\"學校種類:\", school_type)"
   ]
  },
  {
   "cell_type": "code",
   "execution_count": 253,
   "metadata": {},
   "outputs": [],
   "source": [
    "import pandas as pd"
   ]
  },
  {
   "cell_type": "code",
   "execution_count": 254,
   "metadata": {},
   "outputs": [
    {
     "data": {
      "text/html": [
       "<div>\n",
       "<style scoped>\n",
       "    .dataframe tbody tr th:only-of-type {\n",
       "        vertical-align: middle;\n",
       "    }\n",
       "\n",
       "    .dataframe tbody tr th {\n",
       "        vertical-align: top;\n",
       "    }\n",
       "\n",
       "    .dataframe thead th {\n",
       "        text-align: right;\n",
       "    }\n",
       "</style>\n",
       "<table border=\"1\" class=\"dataframe\">\n",
       "  <thead>\n",
       "    <tr style=\"text-align: right;\">\n",
       "      <th></th>\n",
       "      <th>學校名稱</th>\n",
       "      <th>學校種類</th>\n",
       "    </tr>\n",
       "  </thead>\n",
       "  <tbody>\n",
       "    <tr>\n",
       "      <th>0</th>\n",
       "      <td>臺灣大學</td>\n",
       "      <td>大學</td>\n",
       "    </tr>\n",
       "  </tbody>\n",
       "</table>\n",
       "</div>"
      ],
      "text/plain": [
       "   學校名稱 學校種類\n",
       "0  臺灣大學   大學"
      ]
     },
     "execution_count": 254,
     "metadata": {},
     "output_type": "execute_result"
    }
   ],
   "source": [
    "school=pd.DataFrame({\"學校名稱\":[search],\"學校種類\":school_type})\n",
    "school"
   ]
  },
  {
   "attachments": {},
   "cell_type": "markdown",
   "metadata": {},
   "source": [
    "### 爬取店家地址"
   ]
  },
  {
   "cell_type": "code",
   "execution_count": 255,
   "metadata": {},
   "outputs": [
    {
     "data": {
      "text/plain": [
       "[<button aria-label=\"地址: 10617台北市大安區羅斯福路四段1號 \" class=\"CsEnBe\" data-item-id=\"address\" data-tooltip=\"複製地址\" jsaction=\"pane.wfvdle55;clickmod:pane.wfvdle55;focus:pane.focusTooltip;blur:pane.blurTooltip\" jsan=\"0.jsaction,t-N9b393LKKI4,7.CsEnBe,0.aria-label,0.data-item-id,0.data-tooltip,0.jslog,t--fmfwOkA_6s\" jslog=\"36622;track:click;mutable:true\" jstcache=\"944\"><div class=\"AeaXub\" jstcache=\"946\"> <div class=\"OyjIsf\" jsan=\"t-ukoTujtZFMg,7.OyjIsf\" jstcache=\"934\"> </div> <div class=\"cXHGnc\" jsan=\"7.cXHGnc,t-DLjTl110KM4\" jstcache=\"935\"> <div class=\"Eottgc\" jsan=\"7.Eottgc\" jstcache=\"942\"> <img alt=\"\" class=\"Liguzb\" jsan=\"7.Liguzb,0.alt,8.src\" jstcache=\"943\" src=\"//www.gstatic.com/images/icons/material/system_gm/2x/place_gm_blue_24dp.png\"/> </div> </div> <div class=\"rogA2c\" jsan=\"7.rogA2c\" jstcache=\"936\"> <div class=\"Io6YTe fontBodyMedium\" jsan=\"7.Io6YTe,7.fontBodyMedium\" jstcache=\"937\" style='font-family: Roboto, \"Noto Sans TC\", Arial, sans-serif;'>10617台北市大安區羅斯福路四段1號</div> <div jstcache=\"938\" style=\"display:none\"></div> <div jstcache=\"939\" style=\"display:none\"></div> <div class=\"gSkmPd fontBodySmall CuiGbf\" jsan=\"7.gSkmPd,7.fontBodySmall,7.CuiGbf\" jstcache=\"940\" style='font-family: Roboto, \"Noto Sans TC\", Arial, sans-serif;'> </div> </div> </div><div jstcache=\"947\" style=\"display:none\"></div></button>]"
      ]
     },
     "execution_count": 255,
     "metadata": {},
     "output_type": "execute_result"
    }
   ],
   "source": [
    "address_frame = soup.find_all('button', {'data-item-id':\"address\"})\n",
    "address_frame"
   ]
  },
  {
   "cell_type": "code",
   "execution_count": 256,
   "metadata": {},
   "outputs": [
    {
     "data": {
      "text/plain": [
       "'地址: 10617台北市大安區羅斯福路四段1號 '"
      ]
     },
     "execution_count": 256,
     "metadata": {},
     "output_type": "execute_result"
    }
   ],
   "source": [
    "address_frame[0].get('aria-label')"
   ]
  },
  {
   "cell_type": "code",
   "execution_count": 257,
   "metadata": {},
   "outputs": [
    {
     "data": {
      "text/plain": [
       "'10617台北市大安區羅斯福路四段1號'"
      ]
     },
     "execution_count": 257,
     "metadata": {},
     "output_type": "execute_result"
    }
   ],
   "source": [
    "address_frame[0].get('aria-label').strip().strip('地址: ')"
   ]
  },
  {
   "cell_type": "code",
   "execution_count": 258,
   "metadata": {},
   "outputs": [
    {
     "name": "stdout",
     "output_type": "stream",
     "text": [
      "學校地址： ['10617台北市大安區羅斯福路四段1號']\n"
     ]
    }
   ],
   "source": [
    "addresses=[]\n",
    "addresses.append(address_frame[0].get('aria-label').strip().strip('地址: '))\n",
    "print(\"學校地址：\", addresses)"
   ]
  },
  {
   "cell_type": "code",
   "execution_count": 259,
   "metadata": {},
   "outputs": [
    {
     "data": {
      "text/html": [
       "<div>\n",
       "<style scoped>\n",
       "    .dataframe tbody tr th:only-of-type {\n",
       "        vertical-align: middle;\n",
       "    }\n",
       "\n",
       "    .dataframe tbody tr th {\n",
       "        vertical-align: top;\n",
       "    }\n",
       "\n",
       "    .dataframe thead th {\n",
       "        text-align: right;\n",
       "    }\n",
       "</style>\n",
       "<table border=\"1\" class=\"dataframe\">\n",
       "  <thead>\n",
       "    <tr style=\"text-align: right;\">\n",
       "      <th></th>\n",
       "      <th>學校名稱</th>\n",
       "      <th>學校地址</th>\n",
       "    </tr>\n",
       "  </thead>\n",
       "  <tbody>\n",
       "    <tr>\n",
       "      <th>0</th>\n",
       "      <td>臺灣大學</td>\n",
       "      <td>10617台北市大安區羅斯福路四段1號</td>\n",
       "    </tr>\n",
       "  </tbody>\n",
       "</table>\n",
       "</div>"
      ],
      "text/plain": [
       "   學校名稱                 學校地址\n",
       "0  臺灣大學  10617台北市大安區羅斯福路四段1號"
      ]
     },
     "execution_count": 259,
     "metadata": {},
     "output_type": "execute_result"
    }
   ],
   "source": [
    "school=pd.DataFrame({\"學校名稱\":search,\"學校地址\":addresses})\n",
    "school"
   ]
  },
  {
   "attachments": {},
   "cell_type": "markdown",
   "metadata": {},
   "source": [
    "### 爬取店家網站"
   ]
  },
  {
   "cell_type": "code",
   "execution_count": 260,
   "metadata": {},
   "outputs": [
    {
     "data": {
      "text/plain": [
       "[<a aria-label=\"網站: ntu.edu.tw \" class=\"CsEnBe\" data-item-id=\"authority\" data-tooltip=\"開啟網站\" href=\"https://www.ntu.edu.tw/\" jsaction=\"pane.wfvdle57;clickmod:pane.wfvdle57;focus:pane.focusTooltip;blur:pane.blurTooltip\" jsan=\"8.href,0.jsaction,t-N9b393LKKI4,7.CsEnBe,0.aria-label,0.data-item-id,0.data-tooltip,0.jslog,t-a_Ta5Q7Zj50\" jslog=\"3443;track:click;metadata:W251bGwsIixBT3ZWYXczTkVqZVRPZGd6NDlqWFRZR1NPR0ZRLCwwYWhVS0V3aTdvSV9reWFiLUFoVUo4V0VLSFk4cENvVVE2MWdJRVNnTSwiXQ==;mutable:true\" jstcache=\"944\"><div class=\"AeaXub\" jstcache=\"951\"> <div class=\"OyjIsf\" jsan=\"t-ukoTujtZFMg,7.OyjIsf\" jstcache=\"934\"> </div> <div class=\"cXHGnc\" jsan=\"7.cXHGnc,t-DLjTl110KM4\" jstcache=\"935\"> <div class=\"Eottgc\" jsan=\"7.Eottgc\" jstcache=\"942\"> <img alt=\"\" class=\"Liguzb\" jsan=\"7.Liguzb,0.alt,8.src\" jstcache=\"943\" src=\"//www.gstatic.com/images/icons/material/system_gm/2x/public_gm_blue_24dp.png\"/> </div> </div> <div class=\"rogA2c ITvuef\" jsan=\"7.rogA2c,7.ITvuef\" jstcache=\"936\"> <div class=\"Io6YTe fontBodyMedium\" jsan=\"7.Io6YTe,7.fontBodyMedium\" jstcache=\"937\" style='font-family: Roboto, \"Noto Sans TC\", Arial, sans-serif;'>ntu.edu.tw</div> <div jstcache=\"938\" style=\"display:none\"></div> <div jstcache=\"939\" style=\"display:none\"></div> <div class=\"gSkmPd fontBodySmall CuiGbf\" jsan=\"7.gSkmPd,7.fontBodySmall,7.CuiGbf\" jstcache=\"940\" style='font-family: Roboto, \"Noto Sans TC\", Arial, sans-serif;'> </div> </div> </div><div jstcache=\"952\" style=\"display:none\"></div></a>]"
      ]
     },
     "execution_count": 260,
     "metadata": {},
     "output_type": "execute_result"
    }
   ],
   "source": [
    "authority_frame = soup.find_all('a', {'data-item-id':\"authority\"})\n",
    "authority_frame"
   ]
  },
  {
   "cell_type": "code",
   "execution_count": 261,
   "metadata": {},
   "outputs": [
    {
     "data": {
      "text/plain": [
       "'https://www.ntu.edu.tw/'"
      ]
     },
     "execution_count": 261,
     "metadata": {},
     "output_type": "execute_result"
    }
   ],
   "source": [
    "authority_frame[0].get('href')"
   ]
  },
  {
   "cell_type": "code",
   "execution_count": 262,
   "metadata": {},
   "outputs": [],
   "source": [
    "authorities=[]\n",
    "if authority_frame == []:\n",
    "    authorities.append([])\n",
    "    print('empty')\n",
    "else:\n",
    "    authorities.append(authority_frame[0].get('href'))"
   ]
  },
  {
   "cell_type": "code",
   "execution_count": 263,
   "metadata": {},
   "outputs": [
    {
     "data": {
      "text/html": [
       "<div>\n",
       "<style scoped>\n",
       "    .dataframe tbody tr th:only-of-type {\n",
       "        vertical-align: middle;\n",
       "    }\n",
       "\n",
       "    .dataframe tbody tr th {\n",
       "        vertical-align: top;\n",
       "    }\n",
       "\n",
       "    .dataframe thead th {\n",
       "        text-align: right;\n",
       "    }\n",
       "</style>\n",
       "<table border=\"1\" class=\"dataframe\">\n",
       "  <thead>\n",
       "    <tr style=\"text-align: right;\">\n",
       "      <th></th>\n",
       "      <th>學校名稱</th>\n",
       "      <th>學校地址</th>\n",
       "      <th>學校網站</th>\n",
       "    </tr>\n",
       "  </thead>\n",
       "  <tbody>\n",
       "    <tr>\n",
       "      <th>0</th>\n",
       "      <td>臺灣大學</td>\n",
       "      <td>10617台北市大安區羅斯福路四段1號</td>\n",
       "      <td>https://www.ntu.edu.tw/</td>\n",
       "    </tr>\n",
       "  </tbody>\n",
       "</table>\n",
       "</div>"
      ],
      "text/plain": [
       "   學校名稱                 學校地址                     學校網站\n",
       "0  臺灣大學  10617台北市大安區羅斯福路四段1號  https://www.ntu.edu.tw/"
      ]
     },
     "execution_count": 263,
     "metadata": {},
     "output_type": "execute_result"
    }
   ],
   "source": [
    "school['學校網站'] = authorities\n",
    "school"
   ]
  },
  {
   "cell_type": "markdown",
   "metadata": {},
   "source": [
    "### 爬取電話號碼"
   ]
  },
  {
   "cell_type": "code",
   "execution_count": 264,
   "metadata": {},
   "outputs": [
    {
     "data": {
      "text/plain": [
       "[<button aria-label=\"電話號碼: 02 3366 3366 \" class=\"CsEnBe\" data-item-id=\"phone:tel:0233663366\" data-tooltip=\"複製電話號碼\" jsaction=\"pane.wfvdle60;clickmod:pane.wfvdle60;focus:pane.focusTooltip;blur:pane.blurTooltip\" jsan=\"0.jsaction,t-N9b393LKKI4,7.CsEnBe,0.aria-label,0.data-item-id,0.data-tooltip,0.jslog,t--fmfwOkA_6s\" jslog=\"18491;track:click;metadata:WyIwYWhVS0V3aTdvSV9reWFiLUFoVUo4V0VLSFk4cENvVVFfZG9CQ0E0b0NnIl0=;mutable:true\" jstcache=\"944\"><div class=\"AeaXub\" jstcache=\"946\"> <div class=\"OyjIsf\" jsan=\"t-ukoTujtZFMg,7.OyjIsf\" jstcache=\"934\"> </div> <div class=\"cXHGnc\" jsan=\"7.cXHGnc,t-DLjTl110KM4\" jstcache=\"935\"> <div class=\"Eottgc\" jsan=\"7.Eottgc\" jstcache=\"942\"> <img alt=\"\" class=\"Liguzb\" jsan=\"7.Liguzb,0.alt,8.src\" jstcache=\"943\" src=\"//www.gstatic.com/images/icons/material/system_gm/2x/phone_gm_blue_24dp.png\"/> </div> </div> <div class=\"rogA2c\" jsan=\"7.rogA2c\" jstcache=\"936\"> <div class=\"Io6YTe fontBodyMedium\" jsan=\"7.Io6YTe,7.fontBodyMedium\" jstcache=\"937\" style='font-family: Roboto, \"Noto Sans TC\", Arial, sans-serif;'>02 3366 3366</div> <div jstcache=\"938\" style=\"display:none\"></div> <div jstcache=\"939\" style=\"display:none\"></div> <div class=\"gSkmPd fontBodySmall CuiGbf\" jsan=\"7.gSkmPd,7.fontBodySmall,7.CuiGbf\" jstcache=\"940\" style='font-family: Roboto, \"Noto Sans TC\", Arial, sans-serif;'> </div> </div> </div><div jstcache=\"947\" style=\"display:none\"></div></button>,\n",
       " <button aria-label=\"複製電話號碼\" class=\"g88MCb S9kvJb\" data-tooltip=\"複製電話號碼\" data-value=\"複製電話號碼\" jsaction=\"pane.wfvdle61;keydown:pane.wfvdle61;focus:pane.focusTooltip;blur:pane.blurTooltip\" jslog=\"38097; track:click;mutable:true;\"><span class=\"DVeyrd\"><div class=\"OyjIsf zemfqc\"></div><img alt=\"複製電話號碼\" aria-hidden=\"true\" class=\"EgL07d\" draggable=\"false\" src=\"//www.gstatic.com/images/icons/material/system_gm/2x/content_copy_gm_grey_18dp.png\"/></span></button>]"
      ]
     },
     "execution_count": 264,
     "metadata": {},
     "output_type": "execute_result"
    }
   ],
   "source": [
    "phone_frame = soup.find_all('button', {'data-tooltip':\"複製電話號碼\"})\n",
    "phone_frame"
   ]
  },
  {
   "cell_type": "code",
   "execution_count": 265,
   "metadata": {},
   "outputs": [
    {
     "data": {
      "text/plain": [
       "'02 3366 3366'"
      ]
     },
     "execution_count": 265,
     "metadata": {},
     "output_type": "execute_result"
    }
   ],
   "source": [
    "phone_frame[0].get('aria-label').strip(\"電話號碼:\").strip()"
   ]
  },
  {
   "cell_type": "code",
   "execution_count": 266,
   "metadata": {},
   "outputs": [
    {
     "name": "stdout",
     "output_type": "stream",
     "text": [
      "店家電話號碼： ['02 3366 3366']\n"
     ]
    }
   ],
   "source": [
    "phones=[]\n",
    "if phone_frame == []:\n",
    "    phones.append([])\n",
    "    print('您的電話號碼為空號')\n",
    "else:\n",
    "    phone_num = phone_frame[0].get('aria-label').strip().strip('電話號碼: ')\n",
    "    phones.append(phone_num)\n",
    "print(\"店家電話號碼：\", phones)"
   ]
  },
  {
   "cell_type": "code",
   "execution_count": 267,
   "metadata": {},
   "outputs": [
    {
     "data": {
      "text/html": [
       "<div>\n",
       "<style scoped>\n",
       "    .dataframe tbody tr th:only-of-type {\n",
       "        vertical-align: middle;\n",
       "    }\n",
       "\n",
       "    .dataframe tbody tr th {\n",
       "        vertical-align: top;\n",
       "    }\n",
       "\n",
       "    .dataframe thead th {\n",
       "        text-align: right;\n",
       "    }\n",
       "</style>\n",
       "<table border=\"1\" class=\"dataframe\">\n",
       "  <thead>\n",
       "    <tr style=\"text-align: right;\">\n",
       "      <th></th>\n",
       "      <th>學校名稱</th>\n",
       "      <th>學校地址</th>\n",
       "      <th>學校網站</th>\n",
       "      <th>電話號碼</th>\n",
       "    </tr>\n",
       "  </thead>\n",
       "  <tbody>\n",
       "    <tr>\n",
       "      <th>0</th>\n",
       "      <td>臺灣大學</td>\n",
       "      <td>10617台北市大安區羅斯福路四段1號</td>\n",
       "      <td>https://www.ntu.edu.tw/</td>\n",
       "      <td>02 3366 3366</td>\n",
       "    </tr>\n",
       "  </tbody>\n",
       "</table>\n",
       "</div>"
      ],
      "text/plain": [
       "   學校名稱                 學校地址                     學校網站          電話號碼\n",
       "0  臺灣大學  10617台北市大安區羅斯福路四段1號  https://www.ntu.edu.tw/  02 3366 3366"
      ]
     },
     "execution_count": 267,
     "metadata": {},
     "output_type": "execute_result"
    }
   ],
   "source": [
    "school['電話號碼'] = phones\n",
    "\n",
    "school"
   ]
  }
 ],
 "metadata": {
  "kernelspec": {
   "display_name": "base",
   "language": "python",
   "name": "python3"
  },
  "language_info": {
   "codemirror_mode": {
    "name": "ipython",
    "version": 3
   },
   "file_extension": ".py",
   "mimetype": "text/x-python",
   "name": "python",
   "nbconvert_exporter": "python",
   "pygments_lexer": "ipython3",
   "version": "3.9.13"
  },
  "orig_nbformat": 4
 },
 "nbformat": 4,
 "nbformat_minor": 2
}
